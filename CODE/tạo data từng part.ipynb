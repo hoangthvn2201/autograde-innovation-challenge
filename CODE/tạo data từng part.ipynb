{
 "cells": [
  {
   "cell_type": "code",
   "execution_count": 3,
   "metadata": {},
   "outputs": [],
   "source": [
    "import segmentation_utils as su\n",
    "import cv2\n",
    "import matplotlib.pyplot as plt\n",
    "import os"
   ]
  },
  {
   "cell_type": "code",
   "execution_count": 6,
   "metadata": {},
   "outputs": [],
   "source": [
    "def count_shape(info_image):\n",
    "    width = info_image[2] - info_image[0]\n",
    "    height = info_image[3] - info_image[1]\n",
    "\n",
    "    return (width, height)"
   ]
  },
  {
   "cell_type": "code",
   "execution_count": 14,
   "metadata": {},
   "outputs": [],
   "source": [
    "def convert_bounding_boxes_part1(image_path,infor_part1, label_path, dir_save_label, name_file):\n",
    "    image = cv2.imread(image_path)\n",
    "    height, width, _ = image.shape\n",
    "    \n",
    "    with open(label_path, 'r') as f:\n",
    "        labels = f.readlines()[:90]\n",
    "    with open(f\"{dir_save_label}/{name_file}\", \"w\") as file:\n",
    "        for label in labels:\n",
    "            parts = label.strip().split()\n",
    "            class_id = int(parts[0])\n",
    "\n",
    "            x_center, y_center, bbox_width, bbox_height = map(float, parts[1:])\n",
    "\n",
    "            x_center *= width\n",
    "            y_center *= height \n",
    "            bbox_width *= width \n",
    "            bbox_height *= height \n",
    "\n",
    "            x_min_part1 = infor_part1[0]\n",
    "            y_min_part1 = infor_part1[1]\n",
    "\n",
    "            part1_shape = count_shape(infor_part1)\n",
    "\n",
    "            width_part1 = part1_shape[0]\n",
    "            height_part1 = part1_shape[1]\n",
    "\n",
    "            x_center_new = (x_center - x_min_part1)/width_part1\n",
    "            y_center_new = (y_center - y_min_part1)/height_part1\n",
    "\n",
    "            bbox_width_new = bbox_width / width_part1\n",
    "            bbox_height_new = bbox_height / height_part1\n",
    "\n",
    "            \n",
    "            file.write(f\"{class_id} {x_center_new} {y_center_new} {bbox_width_new} {bbox_height_new}\\n\")"
   ]
  },
  {
   "cell_type": "markdown",
   "metadata": {},
   "source": [
    "# Tạo ra bộ dataset image-label cho part đầu"
   ]
  },
  {
   "cell_type": "code",
   "execution_count": null,
   "metadata": {},
   "outputs": [],
   "source": [
    "dir_image = \"C:/Users/huyho/OneDrive/Desktop/autograde/implement/Yolov8/data/images/train\"  #thay bằng thử mục chứa ảnh gốcgốc\n",
    "dir_label = \"C:/Users/huyho/OneDrive/Desktop/autograde/implement/Yolov8/data/labels/train\"  #thay bằng thư mục chứ label gốcgốc\n",
    "dir_save_image = \"D:/part1_images\"\n",
    "dir_save_label = \"D:/part1_labels\"\n",
    "i = 0\n",
    "for file in os.listdir(dir_image):\n",
    "    i += 1\n",
    "    if i == 2341:\n",
    "        print(file)\n",
    "        break\n",
    "    image = cv2.imread(f\"{dir_image}/{file}\")\n",
    "    centroids = su.findSquareContourCentroid(image)\n",
    "    sorted_points = su.sort_points_grid(centroids, row_threshold = 15)\n",
    "\n",
    "    first_small_part, infor_1 = su.segmentation_first_small_part_info(image, sorted_points) #sử dụng hàm trong segmentation_utils.py để extract part1\n",
    "    cv2.imwrite(f\"{dir_save_image}/{file}\",first_small_part)\n",
    "    \n",
    "    convert_bounding_boxes_part1(image_path=f\"{dir_image}/{file}\", infor_part1=infor_1, label_path=f\"{dir_label}/{file[:-3]}txt\", dir_save_label=dir_save_label, name_file=f\"{file[:-3]}txt\")\n"
   ]
  },
  {
   "cell_type": "markdown",
   "metadata": {},
   "source": [
    "# Tạo bộ dataset cho những part sau"
   ]
  },
  {
   "cell_type": "code",
   "execution_count": null,
   "metadata": {},
   "outputs": [],
   "source": [
    "dir_image = \"C:/Users/huyho/OneDrive/Desktop/autograde/implement/Yolov8/data/images/train\"  #thay bằng thử mục chứa ảnh gốcgốc\n",
    "dir_label = \"C:/Users/huyho/OneDrive/Desktop/autograde/implement/Yolov8/data/labels/train\"  #thay bằng thư mục chứ label gốcgốc\n",
    "dir_save_image = \"D:/part1_images\"   #part thứ mấy thì đổi tên file dir\n",
    "dir_save_label = \"D:/part1_labels\"\n",
    "i = 0\n",
    "for file in os.listdir(dir_image):\n",
    "    i += 1\n",
    "    if i == 2341:\n",
    "        print(file)\n",
    "        break\n",
    "    image = cv2.imread(f\"{dir_image}/{file}\")\n",
    "    centroids = su.findSquareContourCentroid(image)\n",
    "    sorted_points = su.sort_points_grid(centroids, row_threshold = 15)\n",
    "\n",
    "    # first_small_part, infor_1 = su.segmentation_first_small_part_info(image, sorted_points) #sử dụng hàm trong segmentation_utils.py để extract part1\n",
    "    cropped_images, cropped_infor = su.segmentation_3_parts_info(image, sorted_points)\n",
    "    cropped_image = cropped_images[0]       #index 0: phần 1,  index1: phần 2, index2: phần 3, index 3: phần mã đề thi, sbd\n",
    "    cropped_info = cropped_infor[0]\n",
    "    cv2.imwrite(f\"{dir_save_image}/{file}\",cropped_image)\n",
    "    \n",
    "    convert_bounding_boxes_part1(image_path=f\"{dir_image}/{file}\", infor_part1=cropped_info, label_path=f\"{dir_label}/{file[:-3]}txt\", dir_save_label=dir_save_label, name_file=f\"{file[:-3]}txt\")"
   ]
  }
 ],
 "metadata": {
  "kernelspec": {
   "display_name": "text2sql",
   "language": "python",
   "name": "python3"
  },
  "language_info": {
   "codemirror_mode": {
    "name": "ipython",
    "version": 3
   },
   "file_extension": ".py",
   "mimetype": "text/x-python",
   "name": "python",
   "nbconvert_exporter": "python",
   "pygments_lexer": "ipython3",
   "version": "3.12.7"
  }
 },
 "nbformat": 4,
 "nbformat_minor": 2
}
